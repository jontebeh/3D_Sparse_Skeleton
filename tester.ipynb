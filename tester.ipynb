{
 "cells": [
  {
   "cell_type": "code",
   "execution_count": null,
   "id": "e262e6a0",
   "metadata": {},
   "outputs": [],
   "source": [
    "import numpy as np\n",
    "import open3d as o3d\n",
    "from pathlib import Path\n",
    "from skimage.morphology import skeletonize\n",
    "from scipy.ndimage import binary_dilation\n",
    "\n",
    "\n",
    "pcd_path = Path(\"modular_polygon_generation/libcore/data/maps/area_1.pcd\")"
   ]
  },
  {
   "cell_type": "code",
   "execution_count": 46,
   "id": "42e1207b",
   "metadata": {},
   "outputs": [],
   "source": [
    "pcd = o3d.io.read_point_cloud(pcd_path)\n",
    "if pcd.is_empty():\n",
    "    raise ValueError(f\"Failed to load point cloud from {pcd_path}\")"
   ]
  },
  {
   "cell_type": "code",
   "execution_count": 47,
   "id": "40deec9f",
   "metadata": {},
   "outputs": [
    {
     "name": "stdout",
     "output_type": "stream",
     "text": [
      "Voxel grid shape: (248, 484, 54)\n"
     ]
    }
   ],
   "source": [
    "# rasterize the point cloud into a voxel grid\n",
    "voxel_size = 0.1  # size of each voxel in meters\n",
    "pts = np.asarray(pcd.points)\n",
    "\n",
    "min_bound = pts.min(axis=0) - voxel_size / 2\n",
    "max_bound = pts.max(axis=0) + voxel_size / 2\n",
    "dims = np.ceil((max_bound - min_bound) / voxel_size).astype(int)\n",
    "\n",
    "voxel_grid = np.zeros(dims, dtype=int)\n",
    "indices = np.floor((pts - min_bound) / voxel_size).astype(int)\n",
    "voxel_grid[indices[:, 0], indices[:, 1], indices[:, 2]] = 1\n",
    "\n",
    "print(f\"Voxel grid shape: {voxel_grid.shape}\")\n",
    "\n",
    "# fill all holes:\n",
    "# add a nother layer of 2s underneath the grid\n",
    "voxel_grid_padded = np.pad(voxel_grid, pad_width=1, mode='constant', constant_values=2)\n",
    "\n",
    "# if a voxel is 0 and the point below is 2, make it 2\n",
    "for z in range(1, voxel_grid_padded.shape[2]):\n",
    "    for y in range(voxel_grid_padded.shape[1]):\n",
    "        for x in range(voxel_grid_padded.shape[0]):\n",
    "            if voxel_grid_padded[x, y, z] == 0 and voxel_grid_padded[x, y, z - 1] == 2:\n",
    "                voxel_grid_padded[x, y, z] = 2\n",
    "\n",
    "# remove the padding\n",
    "voxel_grid_filled = voxel_grid_padded[1:-1, 1:-1, 1:-1]\n",
    "\n",
    "\n",
    "# convert all 2s to 1s\n",
    "voxel_grid_filled[voxel_grid_filled == 2] = 1\n",
    "\n",
    "# remove the upper meter\n",
    "voxel_grid_result = voxel_grid_filled[:, :, :-int(2/voxel_size)]"
   ]
  },
  {
   "cell_type": "code",
   "execution_count": null,
   "id": "3d67e08b",
   "metadata": {},
   "outputs": [],
   "source": [
    "# visualize the voxel grid\n",
    "occupied_indices = np.argwhere(voxel_grid_result == 1)\n",
    "voxel_centers = occupied_indices * voxel_size + min_bound + voxel_size / 2\n",
    "pcd_voxels = o3d.geometry.PointCloud()\n",
    "pcd_voxels.points = o3d.utility.Vector3dVector(voxel_centers)\n",
    "\n",
    "o3d.visualization.draw_geometries([pcd_voxels])"
   ]
  },
  {
   "cell_type": "code",
   "execution_count": null,
   "id": "8ec511c2",
   "metadata": {},
   "outputs": [
    {
     "name": "stdout",
     "output_type": "stream",
     "text": [
      "Skeleton shape: (250, 486, 36)\n"
     ]
    }
   ],
   "source": [
    "# create a skeleton from the voxel grid\n",
    "# add a padding of 1s around the grid\n",
    "voxel_grid_padded = np.pad(voxel_grid_result, pad_width=1, mode='constant', constant_values=1)\n",
    "# smooth the grid by dilating the 0s\n",
    "voxel_grid_padded = binary_dilation(voxel_grid_padded == 1, iterations=2, structure=np.ones((3, 3, 3))).astype(int)\n",
    "\n",
    "skeleton = skeletonize(voxel_grid_padded == 0, method='lee')\n",
    "print(f\"Skeleton shape: {skeleton.shape}\")\n",
    "\n",
    "# skeletonize a second time to thin it out more\n",
    "skeleton = skeletonize(skeleton, method='lee')\n",
    "\n",
    "# visualize the skeleton\n",
    "skeleton_indices = np.argwhere(skeleton == 1)\n",
    "skeleton_centers = skeleton_indices * voxel_size + min_bound + voxel_size / 2\n",
    "pcd_skeleton = o3d.geometry.PointCloud()\n",
    "pcd_skeleton.points = o3d.utility.Vector3dVector(skeleton_centers)\n",
    "\n",
    "o3d.visualization.draw_geometries([pcd_skeleton])"
   ]
  },
  {
   "cell_type": "code",
   "execution_count": 58,
   "id": "d638d99d",
   "metadata": {},
   "outputs": [
    {
     "data": {
      "text/plain": [
       "np.int64(1903525)"
      ]
     },
     "execution_count": 58,
     "metadata": {},
     "output_type": "execute_result"
    }
   ],
   "source": [
    "np.sum(voxel_grid_result == 0)"
   ]
  },
  {
   "cell_type": "code",
   "execution_count": 59,
   "id": "014c1df4",
   "metadata": {},
   "outputs": [
    {
     "data": {
      "text/plain": [
       "np.int64(7308)"
      ]
     },
     "execution_count": 59,
     "metadata": {},
     "output_type": "execute_result"
    }
   ],
   "source": [
    "np.sum(skeleton == 1)"
   ]
  },
  {
   "cell_type": "code",
   "execution_count": null,
   "id": "0d77d1c7",
   "metadata": {},
   "outputs": [],
   "source": []
  }
 ],
 "metadata": {
  "kernelspec": {
   "display_name": ".venv",
   "language": "python",
   "name": "python3"
  },
  "language_info": {
   "codemirror_mode": {
    "name": "ipython",
    "version": 3
   },
   "file_extension": ".py",
   "mimetype": "text/x-python",
   "name": "python",
   "nbconvert_exporter": "python",
   "pygments_lexer": "ipython3",
   "version": "3.12.3"
  }
 },
 "nbformat": 4,
 "nbformat_minor": 5
}
