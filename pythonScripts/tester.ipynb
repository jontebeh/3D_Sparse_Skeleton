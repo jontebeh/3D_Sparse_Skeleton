{
 "cells": [
  {
   "cell_type": "code",
   "execution_count": 2,
   "id": "94dbf196",
   "metadata": {},
   "outputs": [
    {
     "name": "stdout",
     "output_type": "stream",
     "text": [
      "Jupyter environment detected. Enabling Open3D WebVisualizer.\n",
      "[Open3D INFO] WebRTC GUI backend enabled.\n",
      "[Open3D INFO] WebRTCWindowSystem: HTTP handshake server disabled.\n"
     ]
    }
   ],
   "source": [
    "from functions import *"
   ]
  },
  {
   "cell_type": "code",
   "execution_count": 3,
   "id": "fc16fef1",
   "metadata": {},
   "outputs": [
    {
     "name": "stdout",
     "output_type": "stream",
     "text": [
      "Loading point cloud from ../modular_polygon_generation/libcore/data/maps/area_1.pcd...\n",
      "Loaded point cloud from ../modular_polygon_generation/libcore/data/maps/area_1.pcd with 44026810 points.\n",
      "Rasterizing point cloud with voxel size 0.1...\n",
      "Voxel grid created with shape (248, 484, 54)\n",
      "Filling voxel grid from direction up...\n",
      "Voxel grid filled from direction up.\n",
      "Filling voxel grid from direction down...\n",
      "Voxel grid filled from direction down.\n",
      "Inverting voxel grid...\n",
      "Voxel grid inverted.\n",
      "Loading graph from ../output/run_1756996692/node_list.txt and ../output/run_1756996692/edge_list.txt...\n",
      "Loaded graph with 891 nodes and 1043 edges.\n",
      "Converting graph to voxel grid...\n",
      "Graph converted to voxel grid.\n",
      "Node {'coords': array([-8.96824,  2.36996,  1.38798])} maps to free space voxel [137.04759191  46.36960008  22.10980002]\n",
      "Node {'coords': array([-10.5268 ,   3.13996,   1.42364])} maps to free space voxel [121.46199191  54.06960008  22.46640002]\n",
      "Node {'coords': array([-10.5268 ,   3.13996,   1.42364])} maps to free space voxel [121.46199191  54.06960008  22.46640002]\n",
      "Node {'coords': array([-10.5268 ,   3.13996,   1.42364])} maps to free space voxel [121.46199191  54.06960008  22.46640002]\n",
      "Node {'coords': array([-10.5268 ,   3.13996,   1.42364])} maps to free space voxel [121.46199191  54.06960008  22.46640002]\n",
      "Node {'coords': array([-9.15666,  1.48214,  1.43951])} maps to free space voxel [135.16339191  37.49140008  22.62510002]\n",
      "Node {'coords': array([-9.15666,  1.48214,  1.43951])} maps to free space voxel [135.16339191  37.49140008  22.62510002]\n",
      "Node {'coords': array([-8.96824,  2.36996,  1.38798])} maps to free space voxel [137.04759191  46.36960008  22.10980002]\n",
      "Node {'coords': array([-9.15666,  1.48214,  1.43951])} maps to free space voxel [135.16339191  37.49140008  22.62510002]\n",
      "Node {'coords': array([-9.15666,  1.48214,  1.43951])} maps to free space voxel [135.16339191  37.49140008  22.62510002]\n",
      "Node {'coords': array([-9.15666,  1.48214,  1.43951])} maps to free space voxel [135.16339191  37.49140008  22.62510002]\n",
      "Node {'coords': array([-8.6321  ,  0.551083,  0.994701])} maps to free space voxel [140.40899191  28.18083008  18.17701002]\n",
      "Node {'coords': array([-9.15666,  1.48214,  1.43951])} maps to free space voxel [135.16339191  37.49140008  22.62510002]\n",
      "Node {'coords': array([-8.00585,  3.1068 ,  1.98374])} maps to free space voxel [146.67149191  53.73800008  28.06740002]\n",
      "Node {'coords': array([-8.6321  ,  0.551083,  0.994701])} maps to free space voxel [140.40899191  28.18083008  18.17701002]\n",
      "Node {'coords': array([-3.85544, 22.6765 ,  1.00162])} maps to free space voxel [188.17559191 249.43500008  18.24620002]\n",
      "Node {'coords': array([-12.3315 ,  23.5611 ,   2.25231])} maps to free space voxel [103.41499191 258.28100008  30.75310002]\n",
      "Node {'coords': array([-16.1166  ,   8.43971 ,   0.754164])} maps to free space voxel [ 65.56399191 107.06710008  15.77164002]\n",
      "Node {'coords': array([-16.1166  ,   8.43971 ,   0.754164])} maps to free space voxel [ 65.56399191 107.06710008  15.77164002]\n",
      "Node {'coords': array([-12.3315 ,  23.5611 ,   2.25231])} maps to free space voxel [103.41499191 258.28100008  30.75310002]\n",
      "Node {'coords': array([-11.4849 ,  27.1979 ,   1.13056])} maps to free space voxel [111.88099191 294.64900008  19.53560002]\n",
      "Node {'coords': array([-11.4849 ,  27.1979 ,   1.13056])} maps to free space voxel [111.88099191 294.64900008  19.53560002]\n",
      "Node {'coords': array([-0.189056, 31.566   ,  0.667347])} maps to free space voxel [224.83943191 338.33000008  14.90347002]\n",
      "Node {'coords': array([-19.2873 ,  13.9285 ,   1.69962])} maps to free space voxel [ 33.85699191 161.95500008  25.22620002]\n",
      "Node {'coords': array([-11.3338  ,  31.125   ,   0.691721])} maps to free space voxel [113.39199191 333.92000008  15.14721002]\n",
      "Node {'coords': array([-11.3338  ,  31.125   ,   0.691721])} maps to free space voxel [113.39199191 333.92000008  15.14721002]\n",
      "Node {'coords': array([-11.3338  ,  31.125   ,   0.691721])} maps to free space voxel [113.39199191 333.92000008  15.14721002]\n",
      "Node {'coords': array([-11.3338  ,  31.125   ,   0.691721])} maps to free space voxel [113.39199191 333.92000008  15.14721002]\n",
      "Node {'coords': array([-0.189056, 31.566   ,  0.667347])} maps to free space voxel [224.83943191 338.33000008  14.90347002]\n",
      "Node {'coords': array([-0.26252 , 31.6099  ,  0.607468])} maps to free space voxel [224.10479191 338.76900008  14.30468002]\n",
      "Node {'coords': array([-19.2873 ,  13.9285 ,   1.69962])} maps to free space voxel [ 33.85699191 161.95500008  25.22620002]\n",
      "Node {'coords': array([-4.66028, 42.1079 ,  1.58428])} maps to free space voxel [180.12719191 443.74900008  24.07280002]\n",
      "Node {'coords': array([-4.66028, 42.1079 ,  1.58428])} maps to free space voxel [180.12719191 443.74900008  24.07280002]\n",
      "Node {'coords': array([-4.66028, 42.1079 ,  1.58428])} maps to free space voxel [180.12719191 443.74900008  24.07280002]\n",
      "Node {'coords': array([-0.272487, 31.6895  ,  0.588659])} maps to free space voxel [224.00512191 339.56500008  14.11659002]\n",
      "Node {'coords': array([-0.26252 , 31.6099  ,  0.607468])} maps to free space voxel [224.10479191 338.76900008  14.30468002]\n",
      "Total outlier nodes: 15\n"
     ]
    }
   ],
   "source": [
    "pcd_path = Path(\"../modular_polygon_generation/libcore/data/maps/area_1.pcd\")\n",
    "chen_graph_path_input = Path(\"../output/run_1756996692\")\n",
    "output_path = Path(\"../MSSP/input/\")\n",
    "mssp_output_path = Path(\"../MSSP/output/\")\n",
    "\n",
    "chen_skeleton_ids = np.load(mssp_output_path / \"chen_ske_ids.npy\")\n",
    "chen_skeleton_dist = np.load(mssp_output_path / \"chen_ske_dist.npy\")\n",
    "\n",
    "# Load point cloud\n",
    "pcd = load_point_cloud(pcd_path)\n",
    "\n",
    "# rasterize point cloud\n",
    "voxel_grid, transformation_matrix = rasterize_point_cloud(pcd, voxel_size=0.1)\n",
    "\n",
    "# fill holes\n",
    "voxel_grid_flooded = flood_voxel_grid(voxel_grid, direction='up')\n",
    "voxel_grid_flooded = flood_voxel_grid(voxel_grid_flooded, direction='down')\n",
    "# invert it to get the free space\n",
    "voxel_grid_inverted = invert_voxel_grid(voxel_grid_flooded)\n",
    "\n",
    "# skeletonize\n",
    "#skeleton = skeletonize_voxel_grid(voxel_grid_flooded, dilation_size=2)\n",
    "\n",
    "# Load chen skeleton graph\n",
    "chen_skeleton_graph = load_graph(chen_graph_path_input / \"node_list.txt\", chen_graph_path_input / \"edge_list.txt\")\n",
    "\n",
    "visualize([VisObjGraph(chen_skeleton_graph), VisObjVoxel(voxel_grid_flooded, transformation_matrix), VisObjPCD(pcd)])\n",
    "\n",
    "chen_skeleton_voxel, chen_skeleton_id_map = get_voxel_from_graph(chen_skeleton_graph, transformation_matrix, voxel_grid_flooded.shape)\n",
    "visualize([VisObjVoxel(chen_skeleton_voxel, transformation_matrix), VisObjPCD(pcd)])\n",
    "\n",
    "chen_visSkelDist = VisObjVoxel(chen_skeleton_dist, np.load(output_path / \"M.npy\"), noise=True)\n",
    "visualize(chen_visSkelDist)\n",
    "\n",
    "chen_visSkelIds = VisObjVoxel(chen_skeleton_ids, np.load(output_path / \"M.npy\"), noise=True)\n",
    "visualize(chen_visSkelIds)\n",
    "\n",
    "M_inv = np.linalg.inv(transformation_matrix)\n",
    "\n",
    "outlaiers = set()\n",
    "for edge in chen_skeleton_graph.edges:\n",
    "    n1 = chen_skeleton_graph.nodes[edge[0]]\n",
    "    n2 = chen_skeleton_graph.nodes[edge[1]]\n",
    "    coords_1 = n1['coords']\n",
    "    coords_2 = n2['coords']\n",
    "    coords_1_h = np.append(coords_1, 1)\n",
    "    coords_2_h = np.append(coords_2, 1)\n",
    "    v_pos_1 = (M_inv @ coords_1_h)[:3]\n",
    "    v_pos_2 = (M_inv @ coords_2_h)[:3]\n",
    "    if voxel_grid_inverted[tuple(v_pos_1.astype(int))] == 0:\n",
    "        outlaiers.add(edge[0])\n",
    "        print(f\"Node {n1} maps to free space voxel {v_pos_1}\")\n",
    "    if voxel_grid_inverted[tuple(v_pos_2.astype(int))] == 0:\n",
    "        outlaiers.add(edge[1])\n",
    "        print(f\"Node {n2} maps to free space voxel {v_pos_2}\")\n",
    "\n",
    "print(f\"Total outlier nodes: {len(outlaiers)}\")\n",
    "\n",
    "visualize([VisObjGraph(chen_skeleton_graph, outlaiers), VisObjVoxel(voxel_grid_flooded, transformation_matrix), VisObjPCD(pcd)])"
   ]
  },
  {
   "cell_type": "code",
   "execution_count": null,
   "id": "59b59d4f",
   "metadata": {},
   "outputs": [
    {
     "data": {
      "text/plain": [
       "np.int64(14)"
      ]
     },
     "execution_count": 8,
     "metadata": {},
     "output_type": "execute_result"
    }
   ],
   "source": [
    "(chen_skeleton_voxel & voxel_grid_flooded).sum()"
   ]
  },
  {
   "cell_type": "code",
   "execution_count": 13,
   "id": "64a3e5ee",
   "metadata": {},
   "outputs": [
    {
     "name": "stdout",
     "output_type": "stream",
     "text": [
      "Total outlier nodes: 10\n"
     ]
    }
   ],
   "source": [
    "from skimage.draw import line_nd\n",
    "# inverse transformation matrix\n",
    "M_inv = np.linalg.inv(transformation_matrix)\n",
    "\n",
    "outlaiers = set()\n",
    "for edge in chen_skeleton_graph.edges:\n",
    "    n1 = chen_skeleton_graph.nodes[edge[0]]\n",
    "    n2 = chen_skeleton_graph.nodes[edge[1]]\n",
    "    coords_1 = n1['coords']\n",
    "    coords_2 = n2['coords']\n",
    "    coords_1_h = np.append(coords_1, 1)\n",
    "    coords_2_h = np.append(coords_2, 1)\n",
    "    v_pos_1 = (M_inv @ coords_1_h)[:3]\n",
    "    v_pos_2 = (M_inv @ coords_2_h)[:3]\n",
    "    # compute line voxels between v_pos_1 and v_pos_2\n",
    "    line_voxels = np.array(line_nd(tuple(v_pos_1.astype(int)), tuple(v_pos_2.astype(int)))).T[1:] # skip the first entry, hence its the node itself\n",
    "    for voxel in line_voxels:\n",
    "        if voxel_grid[tuple(voxel)] == 1:\n",
    "            outlaiers.add(edge)\n",
    "print(f\"Total outlier nodes: {len(outlaiers)}\")"
   ]
  },
  {
   "cell_type": "code",
   "execution_count": 12,
   "id": "5fbd0d02",
   "metadata": {},
   "outputs": [
    {
     "name": "stdout",
     "output_type": "stream",
     "text": [
      "[1 1 1]\n",
      "[1 2 2]\n",
      "[2 2 3]\n",
      "[2 3 4]\n"
     ]
    }
   ],
   "source": [
    "from skimage.draw import line_nd\n",
    "for voxel in np.array(line_nd((0,0,0), (3,4,5))).T[1:]:\n",
    "    print(voxel)"
   ]
  },
  {
   "cell_type": "code",
   "execution_count": null,
   "id": "3f6bac86",
   "metadata": {},
   "outputs": [],
   "source": []
  }
 ],
 "metadata": {
  "kernelspec": {
   "display_name": ".venv",
   "language": "python",
   "name": "python3"
  },
  "language_info": {
   "codemirror_mode": {
    "name": "ipython",
    "version": 3
   },
   "file_extension": ".py",
   "mimetype": "text/x-python",
   "name": "python",
   "nbconvert_exporter": "python",
   "pygments_lexer": "ipython3",
   "version": "3.12.3"
  }
 },
 "nbformat": 4,
 "nbformat_minor": 5
}
