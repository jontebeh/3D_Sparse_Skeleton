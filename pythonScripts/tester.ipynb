{
 "cells": [
  {
   "cell_type": "code",
   "execution_count": 4,
   "id": "94dbf196",
   "metadata": {},
   "outputs": [],
   "source": [
    "import networkx as nx\n",
    "import numpy as np"
   ]
  },
  {
   "cell_type": "code",
   "execution_count": 5,
   "id": "fc16fef1",
   "metadata": {},
   "outputs": [],
   "source": [
    "G = nx.Graph()\n",
    "\n",
    "for i in range(5):\n",
    "    G.add_node(i, coords=np.array([i, i*2, i*3]))"
   ]
  },
  {
   "cell_type": "code",
   "execution_count": 9,
   "id": "e0969539",
   "metadata": {},
   "outputs": [
    {
     "name": "stdout",
     "output_type": "stream",
     "text": [
      "Node 0 has coordinates [0 0 0]\n",
      "Node 1 has coordinates [1 2 3]\n",
      "Node 2 has coordinates [2 4 6]\n",
      "Node 3 has coordinates [3 6 9]\n",
      "Node 4 has coordinates [ 4  8 12]\n"
     ]
    }
   ],
   "source": [
    "for node, data in G.nodes.data():\n",
    "    print(f\"Node {node} has coordinates {data['coords']}\")"
   ]
  },
  {
   "cell_type": "code",
   "execution_count": null,
   "id": "0614ecdf",
   "metadata": {},
   "outputs": [],
   "source": [
    "G.add_edge(3,1"
   ]
  },
  {
   "cell_type": "code",
   "execution_count": 14,
   "id": "e08daab5",
   "metadata": {},
   "outputs": [
    {
     "data": {
      "text/plain": [
       "EdgeDataView([(1, 7, {}), (1, 3, {})])"
      ]
     },
     "execution_count": 14,
     "metadata": {},
     "output_type": "execute_result"
    }
   ],
   "source": [
    "G.edges.data()"
   ]
  },
  {
   "cell_type": "code",
   "execution_count": null,
   "id": "a07dcc3b",
   "metadata": {},
   "outputs": [],
   "source": []
  }
 ],
 "metadata": {
  "kernelspec": {
   "display_name": ".venv",
   "language": "python",
   "name": "python3"
  },
  "language_info": {
   "codemirror_mode": {
    "name": "ipython",
    "version": 3
   },
   "file_extension": ".py",
   "mimetype": "text/x-python",
   "name": "python",
   "nbconvert_exporter": "python",
   "pygments_lexer": "ipython3",
   "version": "3.12.3"
  }
 },
 "nbformat": 4,
 "nbformat_minor": 5
}
