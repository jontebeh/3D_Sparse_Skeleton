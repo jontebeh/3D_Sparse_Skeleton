{
 "cells": [
  {
   "cell_type": "code",
   "execution_count": 2,
   "id": "222bac97",
   "metadata": {},
   "outputs": [
    {
     "name": "stdout",
     "output_type": "stream",
     "text": [
      "Loading point cloud from ../modular_polygon_generation/libcore/data/maps/area_1.pcd...\n",
      "Loaded point cloud from ../modular_polygon_generation/libcore/data/maps/area_1.pcd with 44026810 points.\n",
      "Rasterizing point cloud with voxel size 0.1...\n",
      "Voxel grid created with shape (248, 484, 54)\n",
      "Visualizing voxel grid (invert=False, noise=False)...\n",
      "Visualizing 4 voxels.\n",
      "Filling voxel grid from direction up...\n",
      "Voxel grid filled from direction up.\n",
      "Filling voxel grid from direction down...\n",
      "Voxel grid filled from direction down.\n",
      "Inverting voxel grid...\n",
      "Voxel grid inverted.\n",
      "Skeleton shape: (250, 486, 56)\n",
      "Created skeleton with 11457 voxels.\n"
     ]
    }
   ],
   "source": [
    "from functions import *\n",
    "pcd_path = Path(\"../modular_polygon_generation/libcore/data/maps/area_1.pcd\")\n",
    "\n",
    "pcd = load_point_cloud(pcd_path)\n",
    "\n",
    "voxel_grid, transformation_matrix = rasterize_point_cloud(pcd, voxel_size=0.1)\n",
    "visualize_voxel_grid(voxel_grid, transformation_matrix, invert=False)\n",
    "# fill holes\n",
    "voxel_grid_flooded = flood_voxel_grid(voxel_grid, direction='up')\n",
    "#visualize_voxel_grid(voxel_grid_flooded, transformation_matrix, invert=False)\n",
    "\n",
    "# fill holes from top\n",
    "voxel_grid_flooded = flood_voxel_grid(voxel_grid_flooded, direction='down')\n",
    "#visualize_voxel_grid(voxel_grid_flooded, transformation_matrix, invert=False)\n",
    "\n",
    "voxel_grid_inverted = invert_voxel_grid(voxel_grid_flooded)\n",
    "#visualize_voxel_grid(voxel_grid_inverted, transformation_matrix, invert=False)\n",
    "\n",
    "# skeletonize\n",
    "skeleton = skeletonize_voxel_grid(voxel_grid_flooded, dilation_size=2)\n",
    "visualize_multiple([VisObjVoxel(skeleton, transformation_matrix), VisObjVoxel(voxel_grid_flooded, transformation_matrix), VisObjPCD(pcd)])\n"
   ]
  },
  {
   "cell_type": "code",
   "execution_count": null,
   "id": "7f665bb7",
   "metadata": {},
   "outputs": [],
   "source": []
  }
 ],
 "metadata": {
  "kernelspec": {
   "display_name": ".venv",
   "language": "python",
   "name": "python3"
  },
  "language_info": {
   "codemirror_mode": {
    "name": "ipython",
    "version": 3
   },
   "file_extension": ".py",
   "mimetype": "text/x-python",
   "name": "python",
   "nbconvert_exporter": "python",
   "pygments_lexer": "ipython3",
   "version": "3.12.3"
  }
 },
 "nbformat": 4,
 "nbformat_minor": 5
}
